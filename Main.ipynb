{
 "cells": [
  {
   "cell_type": "markdown",
   "id": "bd65c47c",
   "metadata": {},
   "source": [
    "## 0. Install"
   ]
  },
  {
   "cell_type": "code",
   "execution_count": null,
   "id": "da8bb572",
   "metadata": {},
   "outputs": [],
   "source": [
    "# !pip install mediapipe-silicon opencv-python pandas scikit-learn"
   ]
  },
  {
   "cell_type": "markdown",
   "id": "254cc023",
   "metadata": {},
   "source": [
    "## 1. Import Dependencies"
   ]
  },
  {
   "cell_type": "code",
   "execution_count": 4,
   "id": "8364e144",
   "metadata": {},
   "outputs": [],
   "source": [
    "import mediapipe as mp\n",
    "from mediapipe.tasks import python\n",
    "from mediapipe.tasks.python import vision\n",
    "import cv2"
   ]
  },
  {
   "cell_type": "code",
   "execution_count": 2,
   "id": "42cd7d43",
   "metadata": {},
   "outputs": [],
   "source": [
    "mp_drawing = mp.solutions.drawing_utils\n",
    "mp_pose = mp.solutions.pose"
   ]
  },
  {
   "cell_type": "markdown",
   "id": "71cc0f1b",
   "metadata": {},
   "source": [
    "## 2. Make Some Detections"
   ]
  },
  {
   "cell_type": "code",
   "execution_count": 10,
   "id": "13499628",
   "metadata": {},
   "outputs": [
    {
     "name": "stderr",
     "output_type": "stream",
     "text": [
      "INFO: Created TensorFlow Lite XNNPACK delegate for CPU.\n"
     ]
    },
    {
     "data": {
      "text/plain": [
       "-1"
      ]
     },
     "execution_count": 10,
     "metadata": {},
     "output_type": "execute_result"
    }
   ],
   "source": [
    "cap = cv2.VideoCapture(0)\n",
    "# Initate holistic model\n",
    "with mp_pose.Pose(min_detection_confidence=0.5, min_tracking_confidence=0.5) as pose:\n",
    "    while cap.isOpened():\n",
    "        ret, image = cap.read()\n",
    "        \n",
    "        # Recolor Feed\n",
    "        image = cv2.cvtColor(image, cv2.COLOR_BGR2RGB)\n",
    "        image.flags.writeable = False\n",
    "        \n",
    "        # Make Detections\n",
    "        results = pose.process(image)\n",
    "        \n",
    "        # Recolor image back to BGR for rendering\n",
    "        image.flags.writeable = True\n",
    "        image = cv2.cvtColor(image, cv2.COLOR_RGB2BGR)\n",
    "        \n",
    "        mp_drawing.draw_landmarks(image, results.pose_landmarks, mp_pose.POSE_CONNECTIONS,\n",
    "                                 mp_drawing.DrawingSpec(color=(245,117,66), thickness=2, circle_radius=4),\n",
    "                                 mp_drawing.DrawingSpec(color=(245,66,230), thickness=2, circle_radius=2))\n",
    "        \n",
    "        cv2.imshow('Raw Webcam Feed', image)\n",
    "        \n",
    "        if cv2.waitKey(10) & 0xFF == ord('q'):\n",
    "            break\n",
    "            \n",
    "cap.release()\n",
    "cv2.destroyAllWindows()\n",
    "cv2.waitKey(1)\n",
    "cv2.waitKey(1)"
   ]
  },
  {
   "cell_type": "markdown",
   "id": "a0b5bf88",
   "metadata": {},
   "source": [
    "## 3. Save Video"
   ]
  },
  {
   "cell_type": "code",
   "execution_count": 31,
   "id": "3c692087",
   "metadata": {},
   "outputs": [
    {
     "data": {
      "text/plain": [
       "-1"
      ]
     },
     "execution_count": 31,
     "metadata": {},
     "output_type": "execute_result"
    }
   ],
   "source": [
    "cap = cv2.VideoCapture(0)\n",
    "if cap.isOpened:\n",
    "    file_path = 'exercise.avi'\n",
    "    fps = 30\n",
    "    fourcc = cv2.VideoWriter_fourcc(*'DIVX')            # Encoding Format\n",
    "    width = cap.get(cv2.CAP_PROP_FRAME_WIDTH)\n",
    "    height = cap.get(cv2.CAP_PROP_FRAME_HEIGHT)\n",
    "    size = (int(width), int (height))                   # Frame Size\n",
    "    \n",
    "    out = cv2.VideoWriter(file_path, fourcc, fps, size) # Create VideoWriter Object\n",
    "    while True:\n",
    "        ret, frame = cap.read()\n",
    "        if ret:\n",
    "            cv2.imshow('camera-recording', frame)\n",
    "            out.write(frame)                            # Save this avi file\n",
    "            if cv2.waitKey(int(1000/fps)) != -1:\n",
    "                break\n",
    "        elif cv2.waitKey(10) & 0xFF == ord('q'):\n",
    "            break\n",
    "        else:\n",
    "            print('no file!')\n",
    "            break\n",
    "    out.release()                                       # Close\n",
    "else:\n",
    "    print(\"Can`t open camera!\")\n",
    "cap.release()\n",
    "cv2.destroyAllWindows()\n",
    "cv2.waitKey(1)\n",
    "cv2.waitKey(1)"
   ]
  },
  {
   "cell_type": "markdown",
   "id": "a857d2e1",
   "metadata": {},
   "source": [
    "## 4. Capture Landmarks and Export CSV"
   ]
  },
  {
   "cell_type": "markdown",
   "id": "8d36a5a4",
   "metadata": {},
   "source": [
    "#### 4_1. Import Dependencies"
   ]
  },
  {
   "cell_type": "code",
   "execution_count": 5,
   "id": "df35733b",
   "metadata": {},
   "outputs": [],
   "source": [
    "import csv\n",
    "import os\n",
    "import numpy as np\n",
    "import matplotlib.pyplot as plt"
   ]
  },
  {
   "cell_type": "markdown",
   "id": "3c175970",
   "metadata": {},
   "source": [
    "#### 4_2. Capture Landmarks"
   ]
  },
  {
   "cell_type": "code",
   "execution_count": 6,
   "id": "21aa840c",
   "metadata": {},
   "outputs": [],
   "source": [
    "landmarks = ['class']\n",
    "for val in range(1, 33+1):\n",
    "    landmarks += [f'x{val}', f'y{val}', f'z{val}', f'v{val}']"
   ]
  },
  {
   "cell_type": "code",
   "execution_count": 7,
   "id": "190f1397",
   "metadata": {},
   "outputs": [
    {
     "data": {
      "text/plain": [
       "['x1', 'y1', 'z1', 'v1', 'x2', 'y2', 'z2', 'v2']"
      ]
     },
     "execution_count": 7,
     "metadata": {},
     "output_type": "execute_result"
    }
   ],
   "source": [
    "landmarks[1:9]"
   ]
  },
  {
   "cell_type": "code",
   "execution_count": 8,
   "id": "452118a8",
   "metadata": {},
   "outputs": [],
   "source": [
    "with open('coords.csv', mode='w', newline='') as f:\n",
    "    csv_writer = csv.writer(f, delimiter=',', quotechar='\"', quoting=csv.QUOTE_MINIMAL)\n",
    "    csv_writer.writerow(landmarks)"
   ]
  },
  {
   "cell_type": "code",
   "execution_count": 25,
   "id": "9bbc1c21",
   "metadata": {},
   "outputs": [],
   "source": [
    "# def export_landmark(results, action):\n",
    "#     try:\n",
    "#         keypoints = np.array([[res.x, res.y, res.z, res.visibility] for res in results.pose_landmarks.landmark]).flatten()\n",
    "#         keypoints.insert(0, action)\n",
    "        \n",
    "#         with open('coords.csv', mode='a', newline='') as f:\n",
    "#             csv_writer = csv.writer(f, delimiter=',', quotechar='\"', quoting=csv.QUOTE_MINIMAL)\n",
    "#             csv_writer.writerow(keypoints)\n",
    "#     except Exception as e:\n",
    "#         pass"
   ]
  },
  {
   "cell_type": "code",
   "execution_count": 27,
   "id": "0859ccc8",
   "metadata": {},
   "outputs": [],
   "source": [
    "def export_landmark(results, action):\n",
    "    try:\n",
    "        keypoints = [action] + [coord for res in results.pose_landmarks.landmark for coord in [res.x, res.y, res.z, res.visibility]]\n",
    "        \n",
    "        with open('coords.csv', mode='a', newline='') as f:\n",
    "            csv_writer = csv.writer(f, delimiter=',', quotechar='\"', quoting=csv.QUOTE_MINIMAL)\n",
    "            csv_writer.writerow(keypoints)\n",
    "    except Exception as e:\n",
    "        pass"
   ]
  },
  {
   "cell_type": "code",
   "execution_count": 29,
   "id": "b2c083ce",
   "metadata": {},
   "outputs": [
    {
     "name": "stdout",
     "output_type": "stream",
     "text": [
      "landmark {\n",
      "  x: 0.3456111\n",
      "  y: 0.68180996\n",
      "  z: -1.4210862\n",
      "  visibility: 0.9993686\n",
      "}\n",
      "landmark {\n",
      "  x: 0.37460822\n",
      "  y: 0.5834866\n",
      "  z: -1.3985937\n",
      "  visibility: 0.99880385\n",
      "}\n",
      "landmark {\n",
      "  x: 0.3949321\n",
      "  y: 0.57717854\n",
      "  z: -1.3984721\n",
      "  visibility: 0.99881315\n",
      "}\n",
      "landmark {\n",
      "  x: 0.4116086\n",
      "  y: 0.5720123\n",
      "  z: -1.39847\n",
      "  visibility: 0.99835837\n",
      "}\n",
      "landmark {\n",
      "  x: 0.3078261\n",
      "  y: 0.592126\n",
      "  z: -1.4013237\n",
      "  visibility: 0.998972\n",
      "}\n",
      "landmark {\n",
      "  x: 0.28669\n",
      "  y: 0.5911995\n",
      "  z: -1.4012961\n",
      "  visibility: 0.99898434\n",
      "}\n",
      "landmark {\n",
      "  x: 0.2710032\n",
      "  y: 0.5918432\n",
      "  z: -1.4014436\n",
      "  visibility: 0.9986613\n",
      "}\n",
      "landmark {\n",
      "  x: 0.44446987\n",
      "  y: 0.5837329\n",
      "  z: -1.0428545\n",
      "  visibility: 0.99870986\n",
      "}\n",
      "landmark {\n",
      "  x: 0.24564588\n",
      "  y: 0.6082741\n",
      "  z: -1.0458715\n",
      "  visibility: 0.9991077\n",
      "}\n",
      "landmark {\n",
      "  x: 0.38715142\n",
      "  y: 0.7745154\n",
      "  z: -1.264426\n",
      "  visibility: 0.99834883\n",
      "}\n",
      "landmark {\n",
      "  x: 0.31296417\n",
      "  y: 0.78643364\n",
      "  z: -1.2663643\n",
      "  visibility: 0.9990099\n",
      "}\n",
      "landmark {\n",
      "  x: 0.58022434\n",
      "  y: 0.9626291\n",
      "  z: -0.6833464\n",
      "  visibility: 0.9770166\n",
      "}\n",
      "landmark {\n",
      "  x: 0.12784787\n",
      "  y: 0.9360583\n",
      "  z: -0.67137355\n",
      "  visibility: 0.9765046\n",
      "}\n",
      "landmark {\n",
      "  x: 0.68071663\n",
      "  y: 1.4450885\n",
      "  z: -0.7131535\n",
      "  visibility: 0.09395129\n",
      "}\n",
      "landmark {\n",
      "  x: 0.03440451\n",
      "  y: 1.4656998\n",
      "  z: -0.583501\n",
      "  visibility: 0.06532746\n",
      "}\n",
      "landmark {\n",
      "  x: 0.6366793\n",
      "  y: 1.5905992\n",
      "  z: -1.0512788\n",
      "  visibility: 0.036652528\n",
      "}\n",
      "landmark {\n",
      "  x: 0.082939215\n",
      "  y: 1.7544274\n",
      "  z: -0.95618755\n",
      "  visibility: 0.021691542\n",
      "}\n",
      "landmark {\n",
      "  x: 0.6413803\n",
      "  y: 1.6433314\n",
      "  z: -1.1281959\n",
      "  visibility: 0.0617012\n",
      "}\n",
      "landmark {\n",
      "  x: 0.08888738\n",
      "  y: 1.879572\n",
      "  z: -1.0284581\n",
      "  visibility: 0.038473565\n",
      "}\n",
      "landmark {\n",
      "  x: 0.6155441\n",
      "  y: 1.5784056\n",
      "  z: -1.1367073\n",
      "  visibility: 0.08868464\n",
      "}\n",
      "landmark {\n",
      "  x: 0.11193919\n",
      "  y: 1.8204193\n",
      "  z: -1.0548226\n",
      "  visibility: 0.058087215\n",
      "}\n",
      "landmark {\n",
      "  x: 0.6039269\n",
      "  y: 1.5625908\n",
      "  z: -1.0652676\n",
      "  visibility: 0.0898016\n",
      "}\n",
      "landmark {\n",
      "  x: 0.12022265\n",
      "  y: 1.7729897\n",
      "  z: -0.9799267\n",
      "  visibility: 0.057080217\n",
      "}\n",
      "landmark {\n",
      "  x: 0.49933553\n",
      "  y: 1.8766255\n",
      "  z: -0.05372669\n",
      "  visibility: 0.00081843865\n",
      "}\n",
      "landmark {\n",
      "  x: 0.22280638\n",
      "  y: 1.8999863\n",
      "  z: 0.058084793\n",
      "  visibility: 0.00082213565\n",
      "}\n",
      "landmark {\n",
      "  x: 0.5168091\n",
      "  y: 2.6206691\n",
      "  z: 0.08533697\n",
      "  visibility: 0.002023645\n",
      "}\n",
      "landmark {\n",
      "  x: 0.2724243\n",
      "  y: 2.6379828\n",
      "  z: 0.16038258\n",
      "  visibility: 0.0008112245\n",
      "}\n",
      "landmark {\n",
      "  x: 0.52876854\n",
      "  y: 3.248461\n",
      "  z: 0.768959\n",
      "  visibility: 8.137209e-05\n",
      "}\n",
      "landmark {\n",
      "  x: 0.30025274\n",
      "  y: 3.2571065\n",
      "  z: 0.65532506\n",
      "  visibility: 6.26853e-05\n",
      "}\n",
      "landmark {\n",
      "  x: 0.52894527\n",
      "  y: 3.355648\n",
      "  z: 0.81024694\n",
      "  visibility: 4.6053945e-05\n",
      "}\n",
      "landmark {\n",
      "  x: 0.30676383\n",
      "  y: 3.3672187\n",
      "  z: 0.689397\n",
      "  visibility: 5.6984016e-05\n",
      "}\n",
      "landmark {\n",
      "  x: 0.4991986\n",
      "  y: 3.5062342\n",
      "  z: 0.35745937\n",
      "  visibility: 0.00026479445\n",
      "}\n",
      "landmark {\n",
      "  x: 0.34092504\n",
      "  y: 3.4910262\n",
      "  z: 0.19835538\n",
      "  visibility: 0.00032156176\n",
      "}\n",
      "\n"
     ]
    }
   ],
   "source": [
    "print(results.pose_landmarks)"
   ]
  },
  {
   "cell_type": "code",
   "execution_count": 28,
   "id": "8a8bd837",
   "metadata": {},
   "outputs": [],
   "source": [
    "export_landmark(results, 'correct_bench')"
   ]
  },
  {
   "cell_type": "code",
   "execution_count": 38,
   "id": "466838d0",
   "metadata": {},
   "outputs": [
    {
     "data": {
      "text/plain": [
       "-1"
      ]
     },
     "execution_count": 38,
     "metadata": {},
     "output_type": "execute_result"
    }
   ],
   "source": [
    "cap = cv2.VideoCapture('exercise.avi')\n",
    "# Initate holistic model\n",
    "with mp_pose.Pose(min_detection_confidence=0.5, min_tracking_confidence=0.5) as pose:\n",
    "\n",
    "    while cap.isOpened():\n",
    "        ret, image = cap.read()\n",
    "        \n",
    "        if not ret:  # 비디오 재생이 완료되면 루프를 종료합니다.\n",
    "            break\n",
    "        \n",
    "        # Recolor Feed\n",
    "        image = cv2.cvtColor(image, cv2.COLOR_BGR2RGB)\n",
    "        image.flags.writeable = False\n",
    "        \n",
    "        # Make Detections\n",
    "        results = pose.process(image)\n",
    "        \n",
    "        # Recolor image back to BGR for rendering\n",
    "        image.flags.writeable = True\n",
    "        image = cv2.cvtColor(image, cv2.COLOR_RGB2BGR)\n",
    "        \n",
    "        mp_drawing.draw_landmarks(image, results.pose_landmarks, mp_pose.POSE_CONNECTIONS,\n",
    "                                 mp_drawing.DrawingSpec(color=(245,117,66), thickness=2, circle_radius=4),\n",
    "                                 mp_drawing.DrawingSpec(color=(245,66,230), thickness=2, circle_radius=2))\n",
    "        k = cv2.waitKey(1)\n",
    "        if k == ord('c'): # c\n",
    "            export_landmark(results, 'correct_bench')\n",
    "        if k == ord('i'): # i\n",
    "            export_landmark(results, 'incorrect_bench')\n",
    "        \n",
    "        cv2.imshow('Raw Webcam Feed', image)\n",
    "        \n",
    "        if cv2.waitKey(10) & 0xFF == ord('q'):\n",
    "            break\n",
    "            \n",
    "cap.release()\n",
    "cv2.destroyAllWindows()\n",
    "cv2.waitKey(1)\n",
    "cv2.waitKey(1)"
   ]
  },
  {
   "cell_type": "markdown",
   "id": "f445eec2",
   "metadata": {},
   "source": [
    "## 5. Train Custom Model Using Scikit Learn"
   ]
  },
  {
   "cell_type": "code",
   "execution_count": null,
   "id": "7138430a",
   "metadata": {},
   "outputs": [],
   "source": []
  }
 ],
 "metadata": {
  "kernelspec": {
   "display_name": "MP_vision",
   "language": "python",
   "name": "mp_vision"
  },
  "language_info": {
   "codemirror_mode": {
    "name": "ipython",
    "version": 3
   },
   "file_extension": ".py",
   "mimetype": "text/x-python",
   "name": "python",
   "nbconvert_exporter": "python",
   "pygments_lexer": "ipython3",
   "version": "3.10.6"
  }
 },
 "nbformat": 4,
 "nbformat_minor": 5
}
